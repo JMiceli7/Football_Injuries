import requests
import pandas as pd



injury_data_df = pd.read_csv("injury_data_weeks_1_to_12.csv")










clean_injury_df = injury_data_df.drop(columns = [
    'season__id',
    'season__type',
    'season__name',
    'week__id',
    'week__sequence',
    'teams__id',
    'teams__players__sr_id',
    '_comment',
    'teams__alias',
    'teams__sr_id',
    'teams__players__id',
    'teams__players__injuries__secondary'
])

clean_injury_df.head()


cleaned_injury_df = clean_injury_df.rename(columns = {
    'season__year' : 'Season Year',
    'week__title' : 'Week',
    'teams__name' : 'Team Name',
    'teams__market' : 'Team City',
    'teams__players__name' :'Player',	
    'teams__players__jersey' : 'Player Jersey',
    'teams__players__position' : 'Position',
    'teams__players__injuries__status' : 'Injury Status',	
    'teams__players__injuries__status_date' : 'Injury Status Date',	
    'teams__players__injuries__practice__status' : 'Practice Status',	
    'teams__players__injuries__primary' : 'Injury Type'
})

cleaned_injury_df.head(100)


final_injury_df = cleaned_injury_df.fillna(method='ffill')
final_injury_df.head()


final_injury_df.to_csv('injury_data_updated.csv')



