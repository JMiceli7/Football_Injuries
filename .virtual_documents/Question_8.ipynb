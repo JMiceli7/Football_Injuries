import requests
import pandas as pd
import matplotlib.pyplot as plt


df = pd.read_csv("injury_data_updated copy.csv")
df.head()


injuries_per_week = df.groupby("Week").size().reset_index(name='Number of Injuries')
injuries_per_week


#Do more injuries occur as the season progresses?
plt.figure(figsize=(10, 6))
injuries_per_week.plot(kind="line", marker='o')
plt.title("Number of Injuries Per Week")
plt.xlabel("Week")
plt.ylabel("Number of Injuries")
plt.grid(True)
plt.xticks(rotation=0)
plt.tight_layout()
plt.show()


#Does time in season affect type of injury?
# Group by Week and Injury Type and count the occurrences
injury_counts = df.groupby(["Week", "Injury Type"]).size().reset_index(name='Count')

# Identify the most common injury type for each week
most_common_injuries = injury_counts.loc[injury_counts.groupby("Week")["Count"].idxmax()].reset_index(drop=True)

# Plot the most common injuries per week as a bar chart
plt.figure(figsize=(10, 6))
bars = plt.bar(most_common_injuries["Week"], most_common_injuries["Count"], color='skyblue')

# Add labels to the bars with the injury type
for bar, injury_type in zip(bars, most_common_injuries["Injury Type"]):
    plt.text(bar.get_x() + bar.get_width() / 2, bar.get_height(), injury_type, ha='center', va='bottom')

plt.title("Most Common Injuries Each Week")
plt.xlabel("Week")
plt.ylabel("Number of Injuries")
plt.xticks(most_common_injuries["Week"])
plt.tight_layout()
plt.show()



