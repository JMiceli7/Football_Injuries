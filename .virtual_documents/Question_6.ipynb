import requests
import pandas as pd
import matplotlib.pyplot as plt


#import data into data frame
df = pd.read_csv("injury_data_updated.csv")
df.head()


#Does the amount of players out vs questionable change as

# Filter data for out and questionable
filtered_df = df[df["Injury Status"].isin(["Out", "Questionable"])]

# Group by Week and count the Injury Status
count_df = filtered_df.groupby(["Week", "Injury Status"]).size().unstack(fill_value=0)

#plot
count_df.plot(kind="bar", stacked=True)
plt.title("Injury Status Out vs Questionable Each Week")
plt.xlabel("Week")
plt.ylabel("Number of Players")
plt.legend(title="Injury Status")
plt.xticks(rotation=0)
plt.tight_layout()
plt.show()


# Filter data for Doubtful and out players
filtered_df = df[df["Injury Status"].isin(["Out", "Questionable"])]

# Group by Injury Status and count the number of players
count_df = filtered_df.groupby("Injury Status").size()

# Plot
count_df.plot(kind="bar")
plt.title("Number of Players Doubtful vs Out For the Season")
plt.xlabel("Injury Status")
plt.ylabel("Number of Players")
plt.xticks(rotation=0)
plt.tight_layout()
plt.show()


# Group by Injury Status and count the number of players
count_df = filtered_df.groupby("Injury Status").size()

# Plot the data as a pie chart
count_df.plot(kind="pie", autopct='%1.1f%%', startangle=90, legend=True)
plt.title("Percentage of Players Out vs Questionable for 2023 Season")  
plt.tight_layout()
plt.show()



